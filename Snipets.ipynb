{
 "cells": [
  {
   "cell_type": "code",
   "execution_count": 4,
   "metadata": {
    "collapsed": true
   },
   "outputs": [
    {
     "name": "stdout",
     "output_type": "stream",
     "text": [
      "5\n",
      "4\n",
      "3\n",
      "2\n",
      "1\n",
      "0\n"
     ]
    }
   ],
   "source": [
    "for i in range(5, 0, -1):\n",
    "    print(i)"
   ]
  },
  {
   "cell_type": "code",
   "execution_count": 14,
   "outputs": [
    {
     "name": "stdout",
     "output_type": "stream",
     "text": [
      "lokesh\n",
      "sudha\n",
      "malini\n",
      "pavithra\n"
     ]
    }
   ],
   "source": [
    "dict_example = [\n",
    "    {'name': 'lokesh', 'age': 31},\n",
    "    {'name': 'sudha', 'age': 32},\n",
    "    {'name': 'malini', 'age': 32},\n",
    "    {'name': 'pavithra', 'age': 27}\n",
    "]\n",
    "name = 'lokesh'\n",
    "for doc in dict_example:\n",
    "    print(doc.get('name', \"N/A\"))"
   ],
   "metadata": {
    "collapsed": false,
    "pycharm": {
     "name": "#%%\n"
    }
   }
  },
  {
   "cell_type": "code",
   "execution_count": 40,
   "outputs": [
    {
     "name": "stdout",
     "output_type": "stream",
     "text": [
      "flow\n"
     ]
    }
   ],
   "source": [
    "strs = [\"flower\", \"flow\", \"flight\"]\n",
    "print(min(strs, key=len))\n",
    "if len(strs) == 0:\n",
    "    print(\"0\")\n",
    "lcp = 0\n",
    "for i in range(len(min(strs, key=len))):\n",
    "    c = strs[0][i]\n",
    "    if all(a[i] == c for a in strs):\n",
    "        lcp += 1\n",
    "    else:\n",
    "        break"
   ],
   "metadata": {
    "collapsed": false,
    "pycharm": {
     "name": "#%%\n"
    }
   }
  },
  {
   "cell_type": "code",
   "execution_count": 48,
   "outputs": [
    {
     "name": "stdout",
     "output_type": "stream",
     "text": [
      "(10, 5)\n",
      "(1, 0)\n",
      "(0, 1)\n",
      "(0, 0)\n",
      "0\n"
     ]
    }
   ],
   "source": [
    "print(divmod(105, 10))\n",
    "print(divmod(10, 10))\n",
    "print(divmod(1, 10))\n",
    "print(divmod(0, 10))\n",
    "\n",
    "\n",
    "print(1 // 10)\n"
   ],
   "metadata": {
    "collapsed": false,
    "pycharm": {
     "name": "#%%\n"
    }
   }
  }
 ],
 "metadata": {
  "kernelspec": {
   "display_name": "Python 3",
   "language": "python",
   "name": "python3"
  },
  "language_info": {
   "codemirror_mode": {
    "name": "ipython",
    "version": 2
   },
   "file_extension": ".py",
   "mimetype": "text/x-python",
   "name": "python",
   "nbconvert_exporter": "python",
   "pygments_lexer": "ipython2",
   "version": "2.7.6"
  }
 },
 "nbformat": 4,
 "nbformat_minor": 0
}